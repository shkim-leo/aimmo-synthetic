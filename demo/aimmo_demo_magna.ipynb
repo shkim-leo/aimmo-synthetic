{
 "cells": [
  {
   "cell_type": "code",
   "execution_count": 6,
   "metadata": {},
   "outputs": [
    {
     "name": "stderr",
     "output_type": "stream",
     "text": [
      "  0%|          | 0/2632 [00:00<?, ?it/s]"
     ]
    },
    {
     "name": "stderr",
     "output_type": "stream",
     "text": [
      "100%|██████████| 2632/2632 [05:46<00:00,  7.59it/s]"
     ]
    },
    {
     "name": "stdout",
     "output_type": "stream",
     "text": [
      "done\n"
     ]
    },
    {
     "name": "stderr",
     "output_type": "stream",
     "text": [
      "\n"
     ]
    }
   ],
   "source": [
    "import os\n",
    "import json\n",
    "import numpy as np\n",
    "from PIL import Image\n",
    "import cv2\n",
    "from tqdm import tqdm\n",
    "import csv\n",
    "\n",
    "\n",
    "def crop_from_mask(image, mask):\n",
    "    # Find contours in the mask\n",
    "    contours, _ = cv2.findContours(mask, cv2.RETR_EXTERNAL, cv2.CHAIN_APPROX_SIMPLE)\n",
    "\n",
    "    # If no contours found, return original image\n",
    "    if not contours:\n",
    "        return image\n",
    "\n",
    "    # Find the bounding box of the largest contour\n",
    "    x, y, w, h = cv2.boundingRect(contours[0])\n",
    "\n",
    "    # Crop the image using the bounding box\n",
    "    cropped_image = image[y : y + h, x : x + w]\n",
    "    cropped_mask = mask[y : y + h, x : x + w]\n",
    "\n",
    "    return cropped_image, cropped_mask\n",
    "\n",
    "\n",
    "annotation_path = \"/data/noah/dataset/ad_human/anno\"\n",
    "out_mask_path = \"/data/noah/inference/magna/masks\"\n",
    "out_image_path = \"/data/noah/inference/magna/images\"\n",
    "out_csv_path = \"/data/noah/inference/magna/instance_infos.csv\"\n",
    "cnt = 0\n",
    "target_class = \"pedestrian\"\n",
    "\n",
    "instance_infos = []\n",
    "\n",
    "for anno_name in tqdm(os.listdir(annotation_path)):\n",
    "    anno_path = os.path.join(annotation_path, anno_name)\n",
    "\n",
    "    with open(anno_path, \"r\") as f:\n",
    "        annotation = json.load(f)\n",
    "\n",
    "    image_path = os.path.join(annotation[\"parent_path\"], annotation[\"filename\"])\n",
    "    image = Image.open(image_path).convert(\"RGB\")\n",
    "\n",
    "    # generate crop mask and image\n",
    "    target_idxs = []\n",
    "    for idx, anno in enumerate(annotation[\"annotations\"]):\n",
    "        if (\n",
    "            anno[\"label\"] == target_class\n",
    "            and anno[\"attributes\"][\"occlusion\"] == \"0\"\n",
    "            and anno[\"attributes\"][\"truncation\"] == \"0\"\n",
    "        ):\n",
    "            target_idxs.append(idx)\n",
    "\n",
    "    for target_idx in target_idxs:\n",
    "        mask = np.zeros((image.height, image.width))\n",
    "        points = np.array(annotation[\"annotations\"][target_idx][\"points\"], dtype=np.int32)\n",
    "        try:\n",
    "            mask = cv2.fillPoly(mask, [points], color=255)\n",
    "        except:\n",
    "            continue\n",
    "\n",
    "        cnt += 1\n",
    "        crop_image, crop_mask = crop_from_mask(np.array(image), mask.astype(\"uint8\"))\n",
    "        # display(Image.fromarray(crop_image))\n",
    "        # display(Image.fromarray(crop_mask))\n",
    "        crop_image = Image.fromarray(crop_image)\n",
    "        crop_mask = Image.fromarray(crop_mask)\n",
    "\n",
    "        crop_image.save(os.path.join(out_image_path, \"{}.png\".format(cnt)))\n",
    "        crop_mask.save(os.path.join(out_mask_path, \"{}.png\".format(cnt)))\n",
    "        info = {\n",
    "            \"image_path\": image_path,\n",
    "            \"image_height\": crop_mask.height,\n",
    "        }\n",
    "        instance_infos.append(info)\n",
    "\n",
    "sorted_infos = sorted(instance_infos, key=lambda x: x[\"image_height\"])\n",
    "\n",
    "with open(out_csv_path, mode=\"w\", newline=\"\") as f:\n",
    "    writer = csv.DictWriter(f, fieldnames=[\"image_path\", \"image_height\"])\n",
    "    writer.writeheader()\n",
    "    for row in sorted_infos:\n",
    "        writer.writerow(row)\n",
    "\n",
    "print(\"done\")"
   ]
  },
  {
   "cell_type": "code",
   "execution_count": 3,
   "metadata": {},
   "outputs": [
    {
     "name": "stderr",
     "output_type": "stream",
     "text": [
      "0it [00:00, ?it/s]"
     ]
    },
    {
     "name": "stderr",
     "output_type": "stream",
     "text": [
      "18it [00:00, 34.04it/s]"
     ]
    },
    {
     "name": "stdout",
     "output_type": "stream",
     "text": [
      "None\n",
      "None\n"
     ]
    },
    {
     "name": "stderr",
     "output_type": "stream",
     "text": [
      "59it [00:01, 29.34it/s]"
     ]
    },
    {
     "name": "stdout",
     "output_type": "stream",
     "text": [
      "None\n"
     ]
    },
    {
     "name": "stderr",
     "output_type": "stream",
     "text": [
      "68it [00:02, 30.23it/s]"
     ]
    },
    {
     "name": "stdout",
     "output_type": "stream",
     "text": [
      "None\n"
     ]
    },
    {
     "name": "stderr",
     "output_type": "stream",
     "text": [
      "82it [00:02, 33.60it/s]"
     ]
    },
    {
     "name": "stdout",
     "output_type": "stream",
     "text": [
      "None\n",
      "None\n"
     ]
    },
    {
     "name": "stderr",
     "output_type": "stream",
     "text": [
      "90it [00:02, 32.61it/s]"
     ]
    },
    {
     "name": "stdout",
     "output_type": "stream",
     "text": [
      "None\n",
      "None\n"
     ]
    },
    {
     "name": "stderr",
     "output_type": "stream",
     "text": [
      "100it [00:03, 32.20it/s]\n"
     ]
    }
   ],
   "source": [
    "import os\n",
    "import random\n",
    "import json\n",
    "import numpy as np\n",
    "from PIL import Image\n",
    "import cv2\n",
    "from tqdm import tqdm\n",
    "\n",
    "\n",
    "def random_coordinate(mask):\n",
    "    # 값이 255인 좌표 찾기\n",
    "    coordinates = np.argwhere(mask == 255)\n",
    "\n",
    "    # 랜덤으로 좌표 선택\n",
    "    random_index = random.randint(0, len(coordinates) - 1)\n",
    "    random_coordinate = coordinates[random_index]\n",
    "\n",
    "    return tuple(random_coordinate)\n",
    "\n",
    "\n",
    "def add_mask(mask, new_mask, right, bottom):\n",
    "    # 새로운 마스크를 더할 위치 계산\n",
    "    left = right - new_mask.shape[1]\n",
    "    top = bottom - new_mask.shape[0]\n",
    "\n",
    "    # 마스크 영역에 새로운 마스크 더하기\n",
    "    if left < 0 or top < 0:\n",
    "        return None\n",
    "\n",
    "    mask[top:bottom, left:right] += new_mask\n",
    "\n",
    "    return mask\n",
    "\n",
    "\n",
    "# annotation을 읽고, 특정 영역을 전달 받았을 때 해당 영역내에서 center point 지정.\n",
    "mask_path = \"/data/noah/inference/magna/masks\"\n",
    "mask_lists = [os.path.join(mask_path, mask_name) for mask_name in os.listdir(mask_path)]\n",
    "target_annotation_path = \"/data/noah/dataset/magna_traffic_light/pre_anno\"\n",
    "target_class_name = \"sidewalk\"\n",
    "target_height = None\n",
    "gen_mask_path = \"/data/noah/inference/magna/generated_masks\"\n",
    "\n",
    "for ann_idx, ann_name in tqdm(enumerate(os.listdir(target_annotation_path))):\n",
    "    annotation_path = os.path.join(target_annotation_path, ann_name)\n",
    "\n",
    "    with open(annotation_path, \"r\") as f:\n",
    "        annotation = json.load(f)\n",
    "\n",
    "    target_index = None\n",
    "\n",
    "    for idx, ann in enumerate(annotation[\"annotations\"]):\n",
    "        if ann[\"label\"] == target_class_name:\n",
    "            target_index = idx\n",
    "            target_points = ann[\"points\"]\n",
    "            break\n",
    "\n",
    "    if target_index is None:\n",
    "        continue\n",
    "\n",
    "    # polygon to mask\n",
    "    mask = np.zeros((annotation[\"metadata\"][\"height\"], annotation[\"metadata\"][\"width\"]))\n",
    "    points = np.array(annotation[\"annotations\"][target_index][\"points\"], dtype=np.int32)\n",
    "\n",
    "    while True:\n",
    "        try:\n",
    "            target_mask = cv2.fillPoly(np.copy(mask), [points], color=255).astype(np.uint8)\n",
    "        except:\n",
    "            break\n",
    "\n",
    "        rb_spot = random_coordinate(target_mask)  # height, width 순\n",
    "\n",
    "        # rb_spot x값을 기준으로 height 선정 및 target_height 산출\n",
    "        target_height = random.randint(100, 400)\n",
    "\n",
    "        # 사전에 저장한 mask로부터 랜덤으로 하나 선택 후 target_height로 리사이징\n",
    "        mask_pth = random.choice(mask_lists)\n",
    "        paste_mask = Image.open(mask_pth)\n",
    "\n",
    "        ratio = float(target_height) / paste_mask.height\n",
    "        paste_mask = paste_mask.resize((int(paste_mask.width * ratio), int(paste_mask.height * ratio)))\n",
    "\n",
    "        paste_mask = np.array(paste_mask)\n",
    "\n",
    "        mask = add_mask(mask, paste_mask, rb_spot[1], rb_spot[0])\n",
    "\n",
    "        if mask is None:\n",
    "            print(\"None\")\n",
    "            continue\n",
    "        else:\n",
    "            mask = Image.fromarray(mask.astype(\"uint8\")).convert(\"L\")\n",
    "            mask.save(os.path.join(gen_mask_path, \"{}.png\".format(ann_idx)))\n",
    "            break"
   ]
  }
 ],
 "metadata": {
  "kernelspec": {
   "display_name": "base",
   "language": "python",
   "name": "python3"
  },
  "language_info": {
   "codemirror_mode": {
    "name": "ipython",
    "version": 3
   },
   "file_extension": ".py",
   "mimetype": "text/x-python",
   "name": "python",
   "nbconvert_exporter": "python",
   "pygments_lexer": "ipython3",
   "version": "3.10.13"
  }
 },
 "nbformat": 4,
 "nbformat_minor": 2
}
