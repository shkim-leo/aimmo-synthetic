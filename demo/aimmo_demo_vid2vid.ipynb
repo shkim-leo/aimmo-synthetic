{
 "cells": [
  {
   "cell_type": "code",
   "execution_count": 4,
   "metadata": {},
   "outputs": [
    {
     "name": "stderr",
     "output_type": "stream",
     "text": [
      "Loading pipeline components...: 100%|██████████| 5/5 [00:03<00:00,  1.26it/s]\n",
      "100%|██████████| 50/50 [00:33<00:00,  1.51it/s]\n"
     ]
    },
    {
     "data": {
      "text/plain": [
       "'/data/noah/inference/incabin_sample/out/spider.gif'"
      ]
     },
     "execution_count": 4,
     "metadata": {},
     "output_type": "execute_result"
    }
   ],
   "source": [
    "import torch\n",
    "from diffusers import TextToVideoSDPipeline\n",
    "from diffusers.utils import export_to_gif\n",
    "\n",
    "device = \"cuda:2\"\n",
    "torch.cuda.set_device(device)\n",
    "\n",
    "pipe = TextToVideoSDPipeline.from_pretrained(\n",
    "    \"/data/noah/ckpt/pretrain_ckpt/StableDiffusion/modelscope_cerspense\", torch_dtype=torch.float16\n",
    ").to(device)\n",
    "\n",
    "prompt = \"cars driving on a highway\"\n",
    "\n",
    "video_frames = pipe(prompt, height=320, width=576).frames\n",
    "\n",
    "from PIL import Image\n",
    "\n",
    "for idx, v in enumerate(video_frames):\n",
    "    video_frames[idx] = Image.fromarray(v)\n",
    "export_to_gif(video_frames, output_gif_path=\"/data/noah/inference/incabin_sample/out/spider.gif\")"
   ]
  },
  {
   "cell_type": "markdown",
   "metadata": {},
   "source": [
    "# Video-to-Video\n"
   ]
  },
  {
   "cell_type": "code",
   "execution_count": 3,
   "metadata": {},
   "outputs": [
    {
     "name": "stderr",
     "output_type": "stream",
     "text": [
      "Loading pipeline components...: 100%|██████████| 5/5 [00:04<00:00,  1.10it/s]\n",
      "You have saved the LoRA weights using the old format. To convert the old LoRA weights to the new format, you can first load them in a dictionary and then create a new dictionary like the following: `new_state_dict = {f'unet.{module_name}': params for module_name, params in old_state_dict.items()}`.\n",
      "100%|██████████| 30/30 [00:14<00:00,  2.12it/s]\n"
     ]
    },
    {
     "data": {
      "text/plain": [
       "'/data/noah/inference/incabin_sample/out/sample_2.gif'"
      ]
     },
     "execution_count": 3,
     "metadata": {},
     "output_type": "execute_result"
    },
    {
     "ename": "",
     "evalue": "",
     "output_type": "error",
     "traceback": [
      "\u001b[1;31m현재 셀 또는 이전 셀에서 코드를 실행하는 동안 Kernel이 충돌했습니다. 셀의 코드를 검토하여 오류의 가능한 원인을 식별하세요. 자세한 내용을 보려면 <a href='https://aka.ms/vscodeJupyterKernelCrash'> 여기 </a> 를 클릭하세요. 자세한 내용은 Jupyter <a href='command:jupyter.viewOutput'>로그</a>를 참조하세요."
     ]
    }
   ],
   "source": [
    "from PIL import Image\n",
    "import torch\n",
    "from diffusers import VideoToVideoSDPipeline, DPMSolverMultistepScheduler\n",
    "from diffusers.utils import export_to_video\n",
    "import cv2\n",
    "\n",
    "device = \"cuda:3\"\n",
    "torch.cuda.set_device(device)\n",
    "\n",
    "\n",
    "def extract_frame(video_path):\n",
    "    frames = []\n",
    "    cap = cv2.VideoCapture(video_path)\n",
    "\n",
    "    while True:\n",
    "        ret, frame = cap.read()\n",
    "\n",
    "        if not ret:\n",
    "            break\n",
    "\n",
    "        frame = cv2.cvtColor(frame, cv2.COLOR_BGR2RGB)\n",
    "        # frame = cv2.resize(frame, (256, 256))\n",
    "        frame = cv2.resize(frame, (576, 320))\n",
    "        # frame = cv2.resize(frame, (1024, 576))\n",
    "        frames.append(frame)\n",
    "\n",
    "    cap.release()\n",
    "    return frames\n",
    "\n",
    "\n",
    "pipe = VideoToVideoSDPipeline.from_pretrained(\n",
    "    \"/data/noah/ckpt/pretrain_ckpt/StableDiffusion/modelscope_cerspense\", torch_dtype=torch.float16\n",
    ")\n",
    "pipe.scheduler = DPMSolverMultistepScheduler.from_config(pipe.scheduler.config)\n",
    "pipe.load_lora_weights(\"/data/noah/ckpt/finetuning/TEXT2VID_LORA_AD\", weight_name=\"pytorch_lora_weights.safetensors\")\n",
    "\n",
    "# pipe.enable_model_cpu_offload()\n",
    "\n",
    "# memory optimization\n",
    "pipe.to(device)\n",
    "\n",
    "# prompt = \"cars are driving on the road\"\n",
    "prompt = \"\"\n",
    "input_path = \"/data/noah/inference/incabin_sample/reference_vid/sample_2.mp4\"\n",
    "frames = extract_frame(input_path)[:10]\n",
    "\n",
    "video_frames = pipe(prompt, video=frames, strength=0.6).frames\n",
    "\n",
    "for idx, v in enumerate(video_frames):\n",
    "    video_frames[idx] = Image.fromarray(v)\n",
    "export_to_gif(video_frames, output_gif_path=\"/data/noah/inference/incabin_sample/out/sample_2.gif\")"
   ]
  },
  {
   "cell_type": "markdown",
   "metadata": {},
   "source": [
    "# Text-to-Video\n"
   ]
  },
  {
   "cell_type": "code",
   "execution_count": 1,
   "metadata": {},
   "outputs": [
    {
     "name": "stderr",
     "output_type": "stream",
     "text": [
      "Loading pipeline components...: 100%|██████████| 5/5 [00:04<00:00,  1.06it/s]\n",
      "You have saved the LoRA weights using the old format. To convert the old LoRA weights to the new format, you can first load them in a dictionary and then create a new dictionary like the following: `new_state_dict = {f'unet.{module_name}': params for module_name, params in old_state_dict.items()}`.\n",
      "100%|██████████| 50/50 [00:36<00:00,  1.35it/s]\n"
     ]
    },
    {
     "data": {
      "text/plain": [
       "'/data/noah/inference/incabin_sample/out/sample_2.gif'"
      ]
     },
     "execution_count": 1,
     "metadata": {},
     "output_type": "execute_result"
    }
   ],
   "source": [
    "import torch\n",
    "from diffusers import TextToVideoSDPipeline, DPMSolverMultistepScheduler\n",
    "from diffusers.utils import export_to_gif\n",
    "import cv2\n",
    "\n",
    "device = \"cuda:3\"\n",
    "torch.cuda.set_device(device)\n",
    "\n",
    "pipe = TextToVideoSDPipeline.from_pretrained(\n",
    "    \"/data/noah/ckpt/pretrain_ckpt/StableDiffusion/modelscope_cerspense\", torch_dtype=torch.float16\n",
    ")\n",
    "pipe.scheduler = DPMSolverMultistepScheduler.from_config(pipe.scheduler.config)\n",
    "pipe.load_lora_weights(\"/data/noah/ckpt/finetuning/TEXT2VID_LORA_AD\", weight_name=\"pytorch_lora_weights.safetensors\")\n",
    "# pipe.enable_model_cpu_offload()\n",
    "\n",
    "# memory optimization\n",
    "# pipe.unet.enable_forward_chunking(chunk_size=1, dim=1)\n",
    "# pipe.enable_vae_slicing()\n",
    "pipe.to(device)\n",
    "\n",
    "prompt = \"cars are driving on a highway\"\n",
    "\n",
    "video_frames = pipe(prompt, height=320, width=576).frames\n",
    "\n",
    "from PIL import Image\n",
    "\n",
    "for idx, v in enumerate(video_frames):\n",
    "    video_frames[idx] = Image.fromarray(v)\n",
    "export_to_gif(video_frames, output_gif_path=\"/data/noah/inference/incabin_sample/out/sample_2.gif\")"
   ]
  }
 ],
 "metadata": {
  "kernelspec": {
   "display_name": "base",
   "language": "python",
   "name": "python3"
  },
  "language_info": {
   "codemirror_mode": {
    "name": "ipython",
    "version": 3
   },
   "file_extension": ".py",
   "mimetype": "text/x-python",
   "name": "python",
   "nbconvert_exporter": "python",
   "pygments_lexer": "ipython3",
   "version": "3.10.13"
  }
 },
 "nbformat": 4,
 "nbformat_minor": 2
}
