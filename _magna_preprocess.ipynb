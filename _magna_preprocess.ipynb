{
 "cells": [
  {
   "cell_type": "code",
   "execution_count": 1,
   "metadata": {},
   "outputs": [
    {
     "name": "stderr",
     "output_type": "stream",
     "text": [
      "100%|██████████| 1000/1000 [00:17<00:00, 58.23it/s]\n"
     ]
    },
    {
     "data": {
      "image/png": "[encoded data removed]",
      "text/plain": [
       "<Figure size 640x480 with 1 Axes>"
      ]
     },
     "metadata": {},
     "output_type": "display_data"
    },
    {
     "name": "stdout",
     "output_type": "stream",
     "text": [
      "min_area : 1125.5\n"
     ]
    }
   ],
   "source": [
    "import os\n",
    "import json\n",
    "import numpy as np\n",
    "import cv2\n",
    "from PIL import Image\n",
    "from tqdm import tqdm\n",
    "import matplotlib.pyplot as plt\n",
    "\n",
    "anno_path = \"/data/ed/iseg/TF_model_datasets/ad_dataset/annotations/train_preprocessing\"\n",
    "image_path = \"/data/ed/iseg/TF_model_datasets/ad_dataset/images\"\n",
    "out_anno_path = \"/data/noah/dataset/AD_INPAINT/anno\"\n",
    "out_image_path = \"/data/noah/dataset/AD_INPAINT/images\"\n",
    "\n",
    "sizes = []\n",
    "class_name = \"pedestrian\"\n",
    "\n",
    "for anno_name in tqdm(os.listdir(anno_path)[:1000]):\n",
    "    path = os.path.join(anno_path, anno_name)\n",
    "    with open(path, \"r\") as f:\n",
    "        anno = json.load(f)\n",
    "    f.close()\n",
    "\n",
    "    for ann in anno[\"annotations\"]:\n",
    "        if ann[\"label\"] == class_name:\n",
    "            mask = np.zeros((anno[\"metadata\"][\"height\"], anno[\"metadata\"][\"width\"]))\n",
    "            points = np.array(ann[\"points\"], dtype=np.int32)\n",
    "\n",
    "            try:\n",
    "                cv2.fillPoly(mask, [points], color=255)\n",
    "            except:\n",
    "                continue\n",
    "            \n",
    "            area = np.count_nonzero(mask == 255)\n",
    "            sizes.append(area)\n",
    "\n",
    "# 리스트의 인덱스를 x 값으로 사용\n",
    "x = list(range(len(sizes)))\n",
    "# sizes = sorted(sizes)\n",
    "\n",
    "# 선 그래프로 시각화\n",
    "plt.hist(sizes, bins=100)\n",
    "# plt.plot(x, sizes)\n",
    "plt.xlabel(\"Area\")\n",
    "plt.ylabel(\"num\")\n",
    "plt.title(\"\")\n",
    "plt.show()\n",
    "\n",
    "min_area = np.median(sizes)\n",
    "print(\"min_area : {}\".format(min_area))"
   ]
  },
  {
   "cell_type": "code",
   "execution_count": null,
   "metadata": {},
   "outputs": [],
   "source": [
    "import shutil\n",
    "\n",
    "for anno_name in tqdm(os.listdir(anno_path)[:5000]):\n",
    "    path = os.path.join(anno_path, anno_name)\n",
    "    with open(path, \"r\") as f:\n",
    "        anno = json.load(f)\n",
    "    f.close()\n",
    "\n",
    "    new_annos = []\n",
    "\n",
    "    for ann in anno[\"annotations\"]:\n",
    "        if ann[\"label\"] == class_name:\n",
    "            mask = np.zeros((anno[\"metadata\"][\"height\"], anno[\"metadata\"][\"width\"]))\n",
    "            points = np.array(ann[\"points\"], dtype=np.int32)\n",
    "\n",
    "            try:\n",
    "                cv2.fillPoly(mask, [points], color=255)\n",
    "            except:\n",
    "                continue\n",
    "\n",
    "            area = np.count_nonzero(mask == 255)\n",
    "\n",
    "            if area >= min_area:\n",
    "                new_annos.append(ann)\n",
    "\n",
    "    if len(new_annos):\n",
    "        src_path = os.path.join(image_path, anno[\"parent_path\"][1:], anno[\"filename\"])\n",
    "        dst_path = os.path.join(out_image_path, anno[\"filename\"])\n",
    "        shutil.copy(src_path, dst_path)\n",
    "\n",
    "        anno[\"annotations\"] = new_annos\n",
    "        anno[\"parent_path\"] = out_image_path\n",
    "\n",
    "        with open(os.path.join(out_anno_path, anno_name), \"w\") as f:\n",
    "            json.dump(anno, f)"
   ]
  }
 ],
 "metadata": {
  "kernelspec": {
   "display_name": "base",
   "language": "python",
   "name": "python3"
  },
  "language_info": {
   "codemirror_mode": {
    "name": "ipython",
    "version": 3
   },
   "file_extension": ".py",
   "mimetype": "text/x-python",
   "name": "python",
   "nbconvert_exporter": "python",
   "pygments_lexer": "ipython3",
   "version": "3.10.13"
  }
 },
 "nbformat": 4,
 "nbformat_minor": 2
}
